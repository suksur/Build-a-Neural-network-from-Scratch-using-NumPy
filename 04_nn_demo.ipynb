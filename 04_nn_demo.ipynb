{
 "cells": [
  {
   "cell_type": "markdown",
   "metadata": {},
   "source": [
    "## Code Walkthrough\n",
    "\n",
    "In this notebook we will work through a code example of a simple and shallow neural net. Before doing so, we should consider the *business use-case*. Our scenario will look at house price prediction, is there a business use case here?\n",
    "\n",
    "Of course, the ability to use AI-powered prediction is a real advantage. If done well, an estate agent that uses accurate predictions for the properties they deal with has a big advantage over an estate agent that uses human experts to make these predicitons, the AI-powered company can operate much more efficiently, consider:\n",
    "\n",
    "A new property is brought to the estate agent, a form describing the property is filled out and entered into a database.\n",
    "\n",
    "* The traditional company must then pay a human expert to make an initial price estimate, this can take time and estimates can be affected by human error or even the mood of that person on that day. If the expert is unfamiliar with the area the house is located in, or typically deals with smaller houses, their prediction take longer (costing the estate agent more money), and be inaccurate.\n",
    "\n",
    "* The AI-powered company has a program that automatically feeds this new data into the house prediction neural net, returning an estimate almost instantaneously. The neural net can do this for millions of new houses almost every second, the costs of running this neural net are minimal.\n",
    "\n",
    "Already we can see the potential of something like this, however, it must be done carefully and a human may still need provide a final estimate. There is the case of *Zillow*, a real-estate marketplace that used AI to power a rapid home buying and reselling tool called *\"Zillow Offers\"*. Zillow Offers was their AI-powered house price estimation tool, that provided start-to-end house pricing with little human oversight, unfortunately this turned out very poorly for Zillow who quickly shut down Zillow Offers, wrote off $569M worth of homes, and laid off 25% of its staff [\\[source\\]](https://www.cnet.com/personal-finance/mortgages/what-happened-at-zillow-how-a-prized-real-estate-site-lost-at-ibuying/).\n",
    "\n",
    "On the other hand, other companies such as Opendoor and Offerpad seem to have implemented AI powered price estimates with much more success [\\[source\\]](https://www.protocol.com/manuals/proptechs-big-moment/ibuyer-opendoor-offerpad-zillow), showing that this approach can be implemented successfully, if done right."
   ]
  },
  {
   "cell_type": "code",
   "execution_count": 49,
   "metadata": {
    "collapsed": false,
    "pycharm": {
     "name": "#%%\n"
    }
   },
   "outputs": [],
   "source": [
    "!pip install numpy==1.21.5\n",
    "!pip install pandas==1.3.5\n",
    "!pip install scikit_learn==1.0.2\n",
    "!pip install openpyxl==3.0.9\n",
    "!pip install matplotlib==3.3.4"
   ]
  },
  {
   "cell_type": "code",
   "execution_count": 3,
   "metadata": {},
   "outputs": [],
   "source": [
    "import numpy as np\n",
    "import pandas as pd\n",
    "import matplotlib.pyplot as plt\n",
    "from sklearn.preprocessing import MinMaxScaler\n",
    "\n",
    "# to show all the generated plots inline in the notebook\n",
    "%matplotlib inline"
   ]
  },
  {
   "cell_type": "markdown",
   "metadata": {},
   "source": [
    "### 4.1 The Dataset"
   ]
  },
  {
   "cell_type": "markdown",
   "metadata": {},
   "source": [
    "The dataset consists of house price data for properties in Pune, India. We have 200 individual data points across 17 different features. Our aim is to see if we can build a simple *Deep Learning Model* using *Numpy* only. Note that we won't be using *PyTorch* at this stage - this will be covered in a future course. \n",
    "\n",
    "We will start by loading and visualising the data, analysing the variable types, and selecting the variables needed.\n",
    "\n",
    "See the *DataDescription.pdf* for each variable's description."
   ]
  },
  {
   "cell_type": "code",
   "execution_count": 4,
   "metadata": {},
   "outputs": [],
   "source": [
    "# load the data\n",
    "df = pd.read_excel('../Input/Real_Estate_Data.xlsx')"
   ]
  },
  {
   "cell_type": "code",
   "execution_count": 5,
   "metadata": {},
   "outputs": [
    {
     "data": {
      "text/html": [
       "<div>\n",
       "<style scoped>\n",
       "    .dataframe tbody tr th:only-of-type {\n",
       "        vertical-align: middle;\n",
       "    }\n",
       "\n",
       "    .dataframe tbody tr th {\n",
       "        vertical-align: top;\n",
       "    }\n",
       "\n",
       "    .dataframe thead th {\n",
       "        text-align: right;\n",
       "    }\n",
       "</style>\n",
       "<table border=\"1\" class=\"dataframe\">\n",
       "  <thead>\n",
       "    <tr style=\"text-align: right;\">\n",
       "      <th></th>\n",
       "      <th>Sr. No.</th>\n",
       "      <th>Location</th>\n",
       "      <th>Sub-Area</th>\n",
       "      <th>Propert Type</th>\n",
       "      <th>Property Area in Sq. Ft.</th>\n",
       "      <th>Price in lakhs</th>\n",
       "      <th>Price in Millions</th>\n",
       "      <th>Company Name</th>\n",
       "      <th>TownShip Name/ Society Name</th>\n",
       "      <th>Total TownShip Area in Acres</th>\n",
       "      <th>ClubHouse</th>\n",
       "      <th>School / University in Township</th>\n",
       "      <th>Hospital in TownShip</th>\n",
       "      <th>Mall in TownShip</th>\n",
       "      <th>Park / Jogging track</th>\n",
       "      <th>Swimming Pool</th>\n",
       "      <th>Gym</th>\n",
       "    </tr>\n",
       "  </thead>\n",
       "  <tbody>\n",
       "    <tr>\n",
       "      <th>0</th>\n",
       "      <td>1</td>\n",
       "      <td>Pune, Maharashtra, India</td>\n",
       "      <td>Bavdhan</td>\n",
       "      <td>1 BHK</td>\n",
       "      <td>492.0</td>\n",
       "      <td>39</td>\n",
       "      <td>3.9</td>\n",
       "      <td>Shapoorji Paloonji</td>\n",
       "      <td>Vanaha</td>\n",
       "      <td>1000.0</td>\n",
       "      <td>Yes</td>\n",
       "      <td>Yes</td>\n",
       "      <td>Yes</td>\n",
       "      <td>Yes</td>\n",
       "      <td>Yes</td>\n",
       "      <td>Yes</td>\n",
       "      <td>Yes</td>\n",
       "    </tr>\n",
       "    <tr>\n",
       "      <th>1</th>\n",
       "      <td>2</td>\n",
       "      <td>Pune, Maharashtra, India</td>\n",
       "      <td>Bavdhan</td>\n",
       "      <td>2 BHK</td>\n",
       "      <td>774.0</td>\n",
       "      <td>65</td>\n",
       "      <td>6.5</td>\n",
       "      <td>Shapoorji Paloonji</td>\n",
       "      <td>Vanaha</td>\n",
       "      <td>1000.0</td>\n",
       "      <td>Yes</td>\n",
       "      <td>Yes</td>\n",
       "      <td>Yes</td>\n",
       "      <td>Yes</td>\n",
       "      <td>Yes</td>\n",
       "      <td>Yes</td>\n",
       "      <td>Yes</td>\n",
       "    </tr>\n",
       "    <tr>\n",
       "      <th>2</th>\n",
       "      <td>3</td>\n",
       "      <td>Pune, Maharashtra, India</td>\n",
       "      <td>Bavdhan</td>\n",
       "      <td>3 BHK</td>\n",
       "      <td>889.0</td>\n",
       "      <td>74</td>\n",
       "      <td>7.4</td>\n",
       "      <td>Shapoorji Paloonji</td>\n",
       "      <td>Vanaha</td>\n",
       "      <td>1000.0</td>\n",
       "      <td>Yes</td>\n",
       "      <td>Yes</td>\n",
       "      <td>Yes</td>\n",
       "      <td>Yes</td>\n",
       "      <td>Yes</td>\n",
       "      <td>Yes</td>\n",
       "      <td>Yes</td>\n",
       "    </tr>\n",
       "    <tr>\n",
       "      <th>3</th>\n",
       "      <td>4</td>\n",
       "      <td>Pune, Maharashtra, India</td>\n",
       "      <td>Bavdhan</td>\n",
       "      <td>3 BHK Grand</td>\n",
       "      <td>1018.0</td>\n",
       "      <td>89</td>\n",
       "      <td>8.9</td>\n",
       "      <td>Shapoorji Paloonji</td>\n",
       "      <td>Vanaha</td>\n",
       "      <td>1000.0</td>\n",
       "      <td>Yes</td>\n",
       "      <td>Yes</td>\n",
       "      <td>Yes</td>\n",
       "      <td>Yes</td>\n",
       "      <td>Yes</td>\n",
       "      <td>Yes</td>\n",
       "      <td>Yes</td>\n",
       "    </tr>\n",
       "    <tr>\n",
       "      <th>4</th>\n",
       "      <td>5</td>\n",
       "      <td>Pune, Maharashtra, India</td>\n",
       "      <td>Mahalunge</td>\n",
       "      <td>2BHK</td>\n",
       "      <td>743.0</td>\n",
       "      <td>74</td>\n",
       "      <td>7.4</td>\n",
       "      <td>Godrej Properties</td>\n",
       "      <td>Godrej Hills retreat</td>\n",
       "      <td>100.0</td>\n",
       "      <td>Yes</td>\n",
       "      <td>Yes</td>\n",
       "      <td>Yes</td>\n",
       "      <td>Yes</td>\n",
       "      <td>Yes</td>\n",
       "      <td>Yes</td>\n",
       "      <td>Yes</td>\n",
       "    </tr>\n",
       "  </tbody>\n",
       "</table>\n",
       "</div>"
      ],
      "text/plain": [
       "   Sr. No.                  Location   Sub-Area Propert Type  \\\n",
       "0        1  Pune, Maharashtra, India    Bavdhan        1 BHK   \n",
       "1        2  Pune, Maharashtra, India    Bavdhan        2 BHK   \n",
       "2        3  Pune, Maharashtra, India    Bavdhan        3 BHK   \n",
       "3        4  Pune, Maharashtra, India    Bavdhan  3 BHK Grand   \n",
       "4        5  Pune, Maharashtra, India  Mahalunge         2BHK   \n",
       "\n",
       "   Property Area in Sq. Ft. Price in lakhs  Price in Millions  \\\n",
       "0                     492.0             39                3.9   \n",
       "1                     774.0             65                6.5   \n",
       "2                     889.0             74                7.4   \n",
       "3                    1018.0             89                8.9   \n",
       "4                     743.0             74                7.4   \n",
       "\n",
       "         Company Name TownShip Name/ Society Name  \\\n",
       "0  Shapoorji Paloonji                     Vanaha    \n",
       "1  Shapoorji Paloonji                     Vanaha    \n",
       "2  Shapoorji Paloonji                     Vanaha    \n",
       "3  Shapoorji Paloonji                     Vanaha    \n",
       "4   Godrej Properties        Godrej Hills retreat   \n",
       "\n",
       "   Total TownShip Area in Acres ClubHouse School / University in Township   \\\n",
       "0                        1000.0       Yes                              Yes   \n",
       "1                        1000.0       Yes                              Yes   \n",
       "2                        1000.0       Yes                              Yes   \n",
       "3                        1000.0       Yes                              Yes   \n",
       "4                         100.0       Yes                              Yes   \n",
       "\n",
       "  Hospital in TownShip Mall in TownShip Park / Jogging track Swimming Pool  \\\n",
       "0                  Yes              Yes                  Yes           Yes   \n",
       "1                  Yes              Yes                  Yes           Yes   \n",
       "2                  Yes              Yes                  Yes           Yes   \n",
       "3                  Yes              Yes                  Yes           Yes   \n",
       "4                  Yes              Yes                  Yes           Yes   \n",
       "\n",
       "   Gym  \n",
       "0  Yes  \n",
       "1  Yes  \n",
       "2  Yes  \n",
       "3  Yes  \n",
       "4  Yes  "
      ]
     },
     "execution_count": 5,
     "metadata": {},
     "output_type": "execute_result"
    }
   ],
   "source": [
    "# view the top rows\n",
    "df.head()"
   ]
  },
  {
   "cell_type": "code",
   "execution_count": 6,
   "metadata": {},
   "outputs": [
    {
     "data": {
      "text/plain": [
       "Sr. No.                               int64\n",
       "Location                             object\n",
       "Sub-Area                             object\n",
       "Propert Type                         object\n",
       "Property Area in Sq. Ft.            float64\n",
       "Price in lakhs                       object\n",
       "Price in Millions                   float64\n",
       "Company Name                         object\n",
       "TownShip Name/ Society Name          object\n",
       "Total TownShip Area in Acres        float64\n",
       "ClubHouse                            object\n",
       "School / University in Township      object\n",
       "Hospital in TownShip                 object\n",
       "Mall in TownShip                     object\n",
       "Park / Jogging track                 object\n",
       "Swimming Pool                        object\n",
       "Gym                                  object\n",
       "dtype: object"
      ]
     },
     "execution_count": 6,
     "metadata": {},
     "output_type": "execute_result"
    }
   ],
   "source": [
    "# check the data types in our dataframe:\n",
    "df.dtypes"
   ]
  },
  {
   "cell_type": "markdown",
   "metadata": {},
   "source": [
    "Analysing the dataset, we can see that we have a mixture of data types, some are quantitative (i.e., *'int64'*, *'float64'*), but the majority qualitative in nature (*'object'*). To run our *Neural Network Model (Multilayer Perceptrons)*, we will need to have floating variables only (*'float64'*) as these are the only variable type the neural network can perform computation on; it can also work with integer numbers, but it will convert them into floating. \n",
    "\n",
    "Therefore, in the next section, we are going to clean our main dataset to improve our data quality and be able to run the model. \n"
   ]
  },
  {
   "cell_type": "markdown",
   "metadata": {},
   "source": [
    "### 4.2 Dataset Cleaning"
   ]
  },
  {
   "cell_type": "markdown",
   "metadata": {},
   "source": [
    "As discussed in the previous section, we are not going to clean our dataset. \n",
    "Specifically, we are going to follow the below steps:\n",
    "1. Extract the relevant variables.\n",
    "2. Remove rows containing *'NaN'* values, if any.\n",
    "3. Convert qualitative variables into quantitative, i.e., from *'object'* to *'float64'*.\n",
    "4. Scale variables, if needed.\n",
    "\n",
    "Let's start!"
   ]
  },
  {
   "cell_type": "markdown",
   "metadata": {},
   "source": [
    "#### 4.2.1 Extract the Relevant Variables"
   ]
  },
  {
   "cell_type": "markdown",
   "metadata": {},
   "source": [
    "\n",
    "For our model, we are going to select 5 variables that are probably the most relevant:\n",
    "1. Propert Type\n",
    "2. Property Area in Sq. Ft.\n",
    "3. Sub-Area\n",
    "4. Swimming Pool\n",
    "5. Price in Millions\n",
    "\n",
    "Important to note, *'Price in Millions'* is the variable we want to predict, therefore, we will split it from the dataset afterwards.\n",
    "\n",
    "Let's start by selecting those variables."
   ]
  },
  {
   "cell_type": "code",
   "execution_count": 7,
   "metadata": {},
   "outputs": [],
   "source": [
    "# variables selection\n",
    "df_selection = df[['Propert Type','Property Area in Sq. Ft.','Sub-Area','Swimming Pool','Price in Millions']]"
   ]
  },
  {
   "cell_type": "code",
   "execution_count": 8,
   "metadata": {},
   "outputs": [
    {
     "data": {
      "text/html": [
       "<div>\n",
       "<style scoped>\n",
       "    .dataframe tbody tr th:only-of-type {\n",
       "        vertical-align: middle;\n",
       "    }\n",
       "\n",
       "    .dataframe tbody tr th {\n",
       "        vertical-align: top;\n",
       "    }\n",
       "\n",
       "    .dataframe thead th {\n",
       "        text-align: right;\n",
       "    }\n",
       "</style>\n",
       "<table border=\"1\" class=\"dataframe\">\n",
       "  <thead>\n",
       "    <tr style=\"text-align: right;\">\n",
       "      <th></th>\n",
       "      <th>Propert Type</th>\n",
       "      <th>Property Area in Sq. Ft.</th>\n",
       "      <th>Sub-Area</th>\n",
       "      <th>Swimming Pool</th>\n",
       "      <th>Price in Millions</th>\n",
       "    </tr>\n",
       "  </thead>\n",
       "  <tbody>\n",
       "    <tr>\n",
       "      <th>0</th>\n",
       "      <td>1 BHK</td>\n",
       "      <td>492.0</td>\n",
       "      <td>Bavdhan</td>\n",
       "      <td>Yes</td>\n",
       "      <td>3.9</td>\n",
       "    </tr>\n",
       "    <tr>\n",
       "      <th>1</th>\n",
       "      <td>2 BHK</td>\n",
       "      <td>774.0</td>\n",
       "      <td>Bavdhan</td>\n",
       "      <td>Yes</td>\n",
       "      <td>6.5</td>\n",
       "    </tr>\n",
       "    <tr>\n",
       "      <th>2</th>\n",
       "      <td>3 BHK</td>\n",
       "      <td>889.0</td>\n",
       "      <td>Bavdhan</td>\n",
       "      <td>Yes</td>\n",
       "      <td>7.4</td>\n",
       "    </tr>\n",
       "    <tr>\n",
       "      <th>3</th>\n",
       "      <td>3 BHK Grand</td>\n",
       "      <td>1018.0</td>\n",
       "      <td>Bavdhan</td>\n",
       "      <td>Yes</td>\n",
       "      <td>8.9</td>\n",
       "    </tr>\n",
       "    <tr>\n",
       "      <th>4</th>\n",
       "      <td>2BHK</td>\n",
       "      <td>743.0</td>\n",
       "      <td>Mahalunge</td>\n",
       "      <td>Yes</td>\n",
       "      <td>7.4</td>\n",
       "    </tr>\n",
       "  </tbody>\n",
       "</table>\n",
       "</div>"
      ],
      "text/plain": [
       "  Propert Type  Property Area in Sq. Ft.   Sub-Area Swimming Pool  \\\n",
       "0        1 BHK                     492.0    Bavdhan           Yes   \n",
       "1        2 BHK                     774.0    Bavdhan           Yes   \n",
       "2        3 BHK                     889.0    Bavdhan           Yes   \n",
       "3  3 BHK Grand                    1018.0    Bavdhan           Yes   \n",
       "4         2BHK                     743.0  Mahalunge           Yes   \n",
       "\n",
       "   Price in Millions  \n",
       "0                3.9  \n",
       "1                6.5  \n",
       "2                7.4  \n",
       "3                8.9  \n",
       "4                7.4  "
      ]
     },
     "execution_count": 8,
     "metadata": {},
     "output_type": "execute_result"
    }
   ],
   "source": [
    "df_selection.head()"
   ]
  },
  {
   "cell_type": "markdown",
   "metadata": {},
   "source": [
    "#### 4.2.2 Remove Missing Data"
   ]
  },
  {
   "cell_type": "markdown",
   "metadata": {},
   "source": [
    "Missing data can be handle in different ways, e.g., replacing, interpolating, or removing data, depending on the size of the dataset, and the usefulness of that data point. In this case, we are going to remove each row containing *missing data*, or *NaN*, to avoid errors when running the model.\n",
    "\n",
    "Let's check if we have any missing data in our dataset."
   ]
  },
  {
   "cell_type": "code",
   "execution_count": 9,
   "metadata": {},
   "outputs": [
    {
     "data": {
      "text/html": [
       "<div>\n",
       "<style scoped>\n",
       "    .dataframe tbody tr th:only-of-type {\n",
       "        vertical-align: middle;\n",
       "    }\n",
       "\n",
       "    .dataframe tbody tr th {\n",
       "        vertical-align: top;\n",
       "    }\n",
       "\n",
       "    .dataframe thead th {\n",
       "        text-align: right;\n",
       "    }\n",
       "</style>\n",
       "<table border=\"1\" class=\"dataframe\">\n",
       "  <thead>\n",
       "    <tr style=\"text-align: right;\">\n",
       "      <th></th>\n",
       "      <th>Propert Type</th>\n",
       "      <th>Property Area in Sq. Ft.</th>\n",
       "      <th>Sub-Area</th>\n",
       "      <th>Swimming Pool</th>\n",
       "      <th>Price in Millions</th>\n",
       "    </tr>\n",
       "  </thead>\n",
       "  <tbody>\n",
       "    <tr>\n",
       "      <th>41</th>\n",
       "      <td>3BHK</td>\n",
       "      <td>1705.0</td>\n",
       "      <td>Keshav Nagar</td>\n",
       "      <td>Yes</td>\n",
       "      <td>NaN</td>\n",
       "    </tr>\n",
       "  </tbody>\n",
       "</table>\n",
       "</div>"
      ],
      "text/plain": [
       "   Propert Type  Property Area in Sq. Ft.      Sub-Area Swimming Pool  \\\n",
       "41         3BHK                    1705.0  Keshav Nagar           Yes   \n",
       "\n",
       "    Price in Millions  \n",
       "41                NaN  "
      ]
     },
     "execution_count": 9,
     "metadata": {},
     "output_type": "execute_result"
    }
   ],
   "source": [
    "# let's check if we have any 'NaN' in the dataset\n",
    "nan_rows = df_selection[df_selection.isnull().any(axis = 1)]\n",
    "nan_rows"
   ]
  },
  {
   "cell_type": "markdown",
   "metadata": {},
   "source": [
    "We can see that row 41 includes missing values, therefore, we are going to drop them using the *`drop`* function."
   ]
  },
  {
   "cell_type": "code",
   "execution_count": 10,
   "metadata": {},
   "outputs": [],
   "source": [
    "# given we do have 'NaN' values, let's store them in a new variable ('nan_rows') and drop their respective rows\n",
    "nan_rows = nan_rows.index.values"
   ]
  },
  {
   "cell_type": "code",
   "execution_count": 11,
   "metadata": {},
   "outputs": [],
   "source": [
    "# drop the respective rows\n",
    "df_selection = df_selection.drop(nan_rows)"
   ]
  },
  {
   "cell_type": "code",
   "execution_count": 12,
   "metadata": {},
   "outputs": [
    {
     "data": {
      "text/html": [
       "<div>\n",
       "<style scoped>\n",
       "    .dataframe tbody tr th:only-of-type {\n",
       "        vertical-align: middle;\n",
       "    }\n",
       "\n",
       "    .dataframe tbody tr th {\n",
       "        vertical-align: top;\n",
       "    }\n",
       "\n",
       "    .dataframe thead th {\n",
       "        text-align: right;\n",
       "    }\n",
       "</style>\n",
       "<table border=\"1\" class=\"dataframe\">\n",
       "  <thead>\n",
       "    <tr style=\"text-align: right;\">\n",
       "      <th></th>\n",
       "      <th>Propert Type</th>\n",
       "      <th>Property Area in Sq. Ft.</th>\n",
       "      <th>Sub-Area</th>\n",
       "      <th>Swimming Pool</th>\n",
       "      <th>Price in Millions</th>\n",
       "    </tr>\n",
       "  </thead>\n",
       "  <tbody>\n",
       "  </tbody>\n",
       "</table>\n",
       "</div>"
      ],
      "text/plain": [
       "Empty DataFrame\n",
       "Columns: [Propert Type, Property Area in Sq. Ft., Sub-Area, Swimming Pool, Price in Millions]\n",
       "Index: []"
      ]
     },
     "execution_count": 12,
     "metadata": {},
     "output_type": "execute_result"
    }
   ],
   "source": [
    "# let's now check that all rows containing NaN values have been removed\n",
    "df_selection[df_selection.isnull().any(axis = 1)]"
   ]
  },
  {
   "cell_type": "markdown",
   "metadata": {},
   "source": [
    "#### 4.2.3 Variables Conversion from Qualitative to Quantitative"
   ]
  },
  {
   "cell_type": "markdown",
   "metadata": {},
   "source": [
    "All the variables extracted from the original database, except for `'Price in Millions'`, are qualitative variables. \n",
    "Therefore, we will need to convert them into quantitative variables.\n",
    "\n",
    "Let's start with the first variable, `'Propert Type'`, which, as the header suggests, represents the property type (i.e., 1 BHK is 1 bedroom, hall, and kitchen, 2 BHK is 2 bedroom, hall, and kitchen and so on). To convert the variable into *float*, we are going to extract the number included in the variable's value. "
   ]
  },
  {
   "cell_type": "code",
   "execution_count": 13,
   "metadata": {},
   "outputs": [],
   "source": [
    "# extract the numerical value for the 'Propert Type'\n",
    "df_selection['Propert Type'] = df_selection['Propert Type'].str.extract('(\\d+)')"
   ]
  },
  {
   "cell_type": "markdown",
   "metadata": {},
   "source": [
    "We must be aware that, this operation could have generated additional missing values. In the case one variable's value didn't include a number, but text only, the resulting value would be *NaN*. Therefore, we need to check once again, if missing values have been generated."
   ]
  },
  {
   "cell_type": "code",
   "execution_count": 14,
   "metadata": {},
   "outputs": [
    {
     "data": {
      "text/html": [
       "<div>\n",
       "<style scoped>\n",
       "    .dataframe tbody tr th:only-of-type {\n",
       "        vertical-align: middle;\n",
       "    }\n",
       "\n",
       "    .dataframe tbody tr th {\n",
       "        vertical-align: top;\n",
       "    }\n",
       "\n",
       "    .dataframe thead th {\n",
       "        text-align: right;\n",
       "    }\n",
       "</style>\n",
       "<table border=\"1\" class=\"dataframe\">\n",
       "  <thead>\n",
       "    <tr style=\"text-align: right;\">\n",
       "      <th></th>\n",
       "      <th>Propert Type</th>\n",
       "      <th>Property Area in Sq. Ft.</th>\n",
       "      <th>Sub-Area</th>\n",
       "      <th>Swimming Pool</th>\n",
       "      <th>Price in Millions</th>\n",
       "    </tr>\n",
       "  </thead>\n",
       "  <tbody>\n",
       "    <tr>\n",
       "      <th>51</th>\n",
       "      <td>NaN</td>\n",
       "      <td>163.0</td>\n",
       "      <td>pimpri pune</td>\n",
       "      <td>no</td>\n",
       "      <td>5.4</td>\n",
       "    </tr>\n",
       "  </tbody>\n",
       "</table>\n",
       "</div>"
      ],
      "text/plain": [
       "   Propert Type  Property Area in Sq. Ft.     Sub-Area Swimming Pool  \\\n",
       "51          NaN                     163.0  pimpri pune            no   \n",
       "\n",
       "    Price in Millions  \n",
       "51                5.4  "
      ]
     },
     "execution_count": 14,
     "metadata": {},
     "output_type": "execute_result"
    }
   ],
   "source": [
    "# let's check if we have any 'NaN' in the dataset\n",
    "nan_rows = df_selection[df_selection.isnull().any(axis = 1)]\n",
    "nan_rows"
   ]
  },
  {
   "cell_type": "markdown",
   "metadata": {},
   "source": [
    "Oops! As expected, row 51 is now *NaN*. Let's drop it and go on with the data cleaning. "
   ]
  },
  {
   "cell_type": "code",
   "execution_count": 15,
   "metadata": {},
   "outputs": [],
   "source": [
    "# given we do have 'NaN' values, let's store them in a new variable ('nan_rows') and drop their respective rows\n",
    "nan_rows = nan_rows.index.values\n",
    "# drop the respective rows\n",
    "df_selection = df_selection.drop(nan_rows)"
   ]
  },
  {
   "cell_type": "markdown",
   "metadata": {},
   "source": [
    "Let's now move to the next variable, `'Sub-Area`.\n",
    "In this case, we want to convert the variable, which is a categorical variable, into a format that can be readily used by our neural network. To do so, we are using *'one-hot encoding'*, which helps us creating new binary variables (i.e.,including only True or False) to represent the original categorical values."
   ]
  },
  {
   "cell_type": "code",
   "execution_count": 16,
   "metadata": {},
   "outputs": [
    {
     "data": {
      "text/html": [
       "<div>\n",
       "<style scoped>\n",
       "    .dataframe tbody tr th:only-of-type {\n",
       "        vertical-align: middle;\n",
       "    }\n",
       "\n",
       "    .dataframe tbody tr th {\n",
       "        vertical-align: top;\n",
       "    }\n",
       "\n",
       "    .dataframe thead th {\n",
       "        text-align: right;\n",
       "    }\n",
       "</style>\n",
       "<table border=\"1\" class=\"dataframe\">\n",
       "  <thead>\n",
       "    <tr style=\"text-align: right;\">\n",
       "      <th></th>\n",
       "      <th>area_akurdi</th>\n",
       "      <th>area_balewadi</th>\n",
       "      <th>area_baner</th>\n",
       "      <th>area_bavdhan</th>\n",
       "      <th>area_bavdhan budruk</th>\n",
       "      <th>area_bt kawade rd</th>\n",
       "      <th>area_dhanori</th>\n",
       "      <th>area_hadapsar</th>\n",
       "      <th>area_handewadi</th>\n",
       "      <th>area_hinjewadi</th>\n",
       "      <th>...</th>\n",
       "      <th>area_mundhwa</th>\n",
       "      <th>area_nibm</th>\n",
       "      <th>area_pisoli</th>\n",
       "      <th>area_ravet</th>\n",
       "      <th>area_susgaon</th>\n",
       "      <th>area_talegoan</th>\n",
       "      <th>area_tathawade</th>\n",
       "      <th>area_undri</th>\n",
       "      <th>area_vimannagar</th>\n",
       "      <th>area_wadgaon sheri</th>\n",
       "    </tr>\n",
       "  </thead>\n",
       "  <tbody>\n",
       "    <tr>\n",
       "      <th>0</th>\n",
       "      <td>0.0</td>\n",
       "      <td>0.0</td>\n",
       "      <td>0.0</td>\n",
       "      <td>1.0</td>\n",
       "      <td>0.0</td>\n",
       "      <td>0.0</td>\n",
       "      <td>0.0</td>\n",
       "      <td>0.0</td>\n",
       "      <td>0.0</td>\n",
       "      <td>0.0</td>\n",
       "      <td>...</td>\n",
       "      <td>0.0</td>\n",
       "      <td>0.0</td>\n",
       "      <td>0.0</td>\n",
       "      <td>0.0</td>\n",
       "      <td>0.0</td>\n",
       "      <td>0.0</td>\n",
       "      <td>0.0</td>\n",
       "      <td>0.0</td>\n",
       "      <td>0.0</td>\n",
       "      <td>0.0</td>\n",
       "    </tr>\n",
       "    <tr>\n",
       "      <th>1</th>\n",
       "      <td>0.0</td>\n",
       "      <td>0.0</td>\n",
       "      <td>0.0</td>\n",
       "      <td>1.0</td>\n",
       "      <td>0.0</td>\n",
       "      <td>0.0</td>\n",
       "      <td>0.0</td>\n",
       "      <td>0.0</td>\n",
       "      <td>0.0</td>\n",
       "      <td>0.0</td>\n",
       "      <td>...</td>\n",
       "      <td>0.0</td>\n",
       "      <td>0.0</td>\n",
       "      <td>0.0</td>\n",
       "      <td>0.0</td>\n",
       "      <td>0.0</td>\n",
       "      <td>0.0</td>\n",
       "      <td>0.0</td>\n",
       "      <td>0.0</td>\n",
       "      <td>0.0</td>\n",
       "      <td>0.0</td>\n",
       "    </tr>\n",
       "    <tr>\n",
       "      <th>2</th>\n",
       "      <td>0.0</td>\n",
       "      <td>0.0</td>\n",
       "      <td>0.0</td>\n",
       "      <td>1.0</td>\n",
       "      <td>0.0</td>\n",
       "      <td>0.0</td>\n",
       "      <td>0.0</td>\n",
       "      <td>0.0</td>\n",
       "      <td>0.0</td>\n",
       "      <td>0.0</td>\n",
       "      <td>...</td>\n",
       "      <td>0.0</td>\n",
       "      <td>0.0</td>\n",
       "      <td>0.0</td>\n",
       "      <td>0.0</td>\n",
       "      <td>0.0</td>\n",
       "      <td>0.0</td>\n",
       "      <td>0.0</td>\n",
       "      <td>0.0</td>\n",
       "      <td>0.0</td>\n",
       "      <td>0.0</td>\n",
       "    </tr>\n",
       "    <tr>\n",
       "      <th>3</th>\n",
       "      <td>0.0</td>\n",
       "      <td>0.0</td>\n",
       "      <td>0.0</td>\n",
       "      <td>1.0</td>\n",
       "      <td>0.0</td>\n",
       "      <td>0.0</td>\n",
       "      <td>0.0</td>\n",
       "      <td>0.0</td>\n",
       "      <td>0.0</td>\n",
       "      <td>0.0</td>\n",
       "      <td>...</td>\n",
       "      <td>0.0</td>\n",
       "      <td>0.0</td>\n",
       "      <td>0.0</td>\n",
       "      <td>0.0</td>\n",
       "      <td>0.0</td>\n",
       "      <td>0.0</td>\n",
       "      <td>0.0</td>\n",
       "      <td>0.0</td>\n",
       "      <td>0.0</td>\n",
       "      <td>0.0</td>\n",
       "    </tr>\n",
       "    <tr>\n",
       "      <th>4</th>\n",
       "      <td>0.0</td>\n",
       "      <td>0.0</td>\n",
       "      <td>0.0</td>\n",
       "      <td>0.0</td>\n",
       "      <td>0.0</td>\n",
       "      <td>0.0</td>\n",
       "      <td>0.0</td>\n",
       "      <td>0.0</td>\n",
       "      <td>0.0</td>\n",
       "      <td>0.0</td>\n",
       "      <td>...</td>\n",
       "      <td>0.0</td>\n",
       "      <td>0.0</td>\n",
       "      <td>0.0</td>\n",
       "      <td>0.0</td>\n",
       "      <td>0.0</td>\n",
       "      <td>0.0</td>\n",
       "      <td>0.0</td>\n",
       "      <td>0.0</td>\n",
       "      <td>0.0</td>\n",
       "      <td>0.0</td>\n",
       "    </tr>\n",
       "  </tbody>\n",
       "</table>\n",
       "<p>5 rows × 33 columns</p>\n",
       "</div>"
      ],
      "text/plain": [
       "   area_akurdi  area_balewadi  area_baner  area_bavdhan  area_bavdhan budruk  \\\n",
       "0          0.0            0.0         0.0           1.0                  0.0   \n",
       "1          0.0            0.0         0.0           1.0                  0.0   \n",
       "2          0.0            0.0         0.0           1.0                  0.0   \n",
       "3          0.0            0.0         0.0           1.0                  0.0   \n",
       "4          0.0            0.0         0.0           0.0                  0.0   \n",
       "\n",
       "   area_bt kawade rd  area_dhanori  area_hadapsar  area_handewadi  \\\n",
       "0                0.0           0.0            0.0             0.0   \n",
       "1                0.0           0.0            0.0             0.0   \n",
       "2                0.0           0.0            0.0             0.0   \n",
       "3                0.0           0.0            0.0             0.0   \n",
       "4                0.0           0.0            0.0             0.0   \n",
       "\n",
       "   area_hinjewadi  ...  area_mundhwa  area_nibm  area_pisoli  area_ravet  \\\n",
       "0             0.0  ...           0.0        0.0          0.0         0.0   \n",
       "1             0.0  ...           0.0        0.0          0.0         0.0   \n",
       "2             0.0  ...           0.0        0.0          0.0         0.0   \n",
       "3             0.0  ...           0.0        0.0          0.0         0.0   \n",
       "4             0.0  ...           0.0        0.0          0.0         0.0   \n",
       "\n",
       "   area_susgaon  area_talegoan  area_tathawade  area_undri  area_vimannagar  \\\n",
       "0           0.0            0.0             0.0         0.0              0.0   \n",
       "1           0.0            0.0             0.0         0.0              0.0   \n",
       "2           0.0            0.0             0.0         0.0              0.0   \n",
       "3           0.0            0.0             0.0         0.0              0.0   \n",
       "4           0.0            0.0             0.0         0.0              0.0   \n",
       "\n",
       "   area_wadgaon sheri  \n",
       "0                 0.0  \n",
       "1                 0.0  \n",
       "2                 0.0  \n",
       "3                 0.0  \n",
       "4                 0.0  \n",
       "\n",
       "[5 rows x 33 columns]"
      ]
     },
     "execution_count": 16,
     "metadata": {},
     "output_type": "execute_result"
    }
   ],
   "source": [
    "# converting our categorical variables using 'one-hot encoding' \n",
    "area_encoded = pd.get_dummies(df_selection['Sub-Area'].str.lower().str.strip(), prefix = 'area', dtype = 'float64')\n",
    "\n",
    "# check the categorical variables\n",
    "area_encoded.head()"
   ]
  },
  {
   "cell_type": "markdown",
   "metadata": {},
   "source": [
    "We can then concatenate the data base to our new binary variables using *`concat`*."
   ]
  },
  {
   "cell_type": "code",
   "execution_count": 17,
   "metadata": {},
   "outputs": [
    {
     "data": {
      "text/html": [
       "<div>\n",
       "<style scoped>\n",
       "    .dataframe tbody tr th:only-of-type {\n",
       "        vertical-align: middle;\n",
       "    }\n",
       "\n",
       "    .dataframe tbody tr th {\n",
       "        vertical-align: top;\n",
       "    }\n",
       "\n",
       "    .dataframe thead th {\n",
       "        text-align: right;\n",
       "    }\n",
       "</style>\n",
       "<table border=\"1\" class=\"dataframe\">\n",
       "  <thead>\n",
       "    <tr style=\"text-align: right;\">\n",
       "      <th></th>\n",
       "      <th>Propert Type</th>\n",
       "      <th>Property Area in Sq. Ft.</th>\n",
       "      <th>Sub-Area</th>\n",
       "      <th>Swimming Pool</th>\n",
       "      <th>Price in Millions</th>\n",
       "      <th>area_akurdi</th>\n",
       "      <th>area_balewadi</th>\n",
       "      <th>area_baner</th>\n",
       "      <th>area_bavdhan</th>\n",
       "      <th>area_bavdhan budruk</th>\n",
       "      <th>...</th>\n",
       "      <th>area_mundhwa</th>\n",
       "      <th>area_nibm</th>\n",
       "      <th>area_pisoli</th>\n",
       "      <th>area_ravet</th>\n",
       "      <th>area_susgaon</th>\n",
       "      <th>area_talegoan</th>\n",
       "      <th>area_tathawade</th>\n",
       "      <th>area_undri</th>\n",
       "      <th>area_vimannagar</th>\n",
       "      <th>area_wadgaon sheri</th>\n",
       "    </tr>\n",
       "  </thead>\n",
       "  <tbody>\n",
       "    <tr>\n",
       "      <th>0</th>\n",
       "      <td>1</td>\n",
       "      <td>492.0</td>\n",
       "      <td>Bavdhan</td>\n",
       "      <td>Yes</td>\n",
       "      <td>3.9</td>\n",
       "      <td>0.0</td>\n",
       "      <td>0.0</td>\n",
       "      <td>0.0</td>\n",
       "      <td>1.0</td>\n",
       "      <td>0.0</td>\n",
       "      <td>...</td>\n",
       "      <td>0.0</td>\n",
       "      <td>0.0</td>\n",
       "      <td>0.0</td>\n",
       "      <td>0.0</td>\n",
       "      <td>0.0</td>\n",
       "      <td>0.0</td>\n",
       "      <td>0.0</td>\n",
       "      <td>0.0</td>\n",
       "      <td>0.0</td>\n",
       "      <td>0.0</td>\n",
       "    </tr>\n",
       "    <tr>\n",
       "      <th>1</th>\n",
       "      <td>2</td>\n",
       "      <td>774.0</td>\n",
       "      <td>Bavdhan</td>\n",
       "      <td>Yes</td>\n",
       "      <td>6.5</td>\n",
       "      <td>0.0</td>\n",
       "      <td>0.0</td>\n",
       "      <td>0.0</td>\n",
       "      <td>1.0</td>\n",
       "      <td>0.0</td>\n",
       "      <td>...</td>\n",
       "      <td>0.0</td>\n",
       "      <td>0.0</td>\n",
       "      <td>0.0</td>\n",
       "      <td>0.0</td>\n",
       "      <td>0.0</td>\n",
       "      <td>0.0</td>\n",
       "      <td>0.0</td>\n",
       "      <td>0.0</td>\n",
       "      <td>0.0</td>\n",
       "      <td>0.0</td>\n",
       "    </tr>\n",
       "    <tr>\n",
       "      <th>2</th>\n",
       "      <td>3</td>\n",
       "      <td>889.0</td>\n",
       "      <td>Bavdhan</td>\n",
       "      <td>Yes</td>\n",
       "      <td>7.4</td>\n",
       "      <td>0.0</td>\n",
       "      <td>0.0</td>\n",
       "      <td>0.0</td>\n",
       "      <td>1.0</td>\n",
       "      <td>0.0</td>\n",
       "      <td>...</td>\n",
       "      <td>0.0</td>\n",
       "      <td>0.0</td>\n",
       "      <td>0.0</td>\n",
       "      <td>0.0</td>\n",
       "      <td>0.0</td>\n",
       "      <td>0.0</td>\n",
       "      <td>0.0</td>\n",
       "      <td>0.0</td>\n",
       "      <td>0.0</td>\n",
       "      <td>0.0</td>\n",
       "    </tr>\n",
       "    <tr>\n",
       "      <th>3</th>\n",
       "      <td>3</td>\n",
       "      <td>1018.0</td>\n",
       "      <td>Bavdhan</td>\n",
       "      <td>Yes</td>\n",
       "      <td>8.9</td>\n",
       "      <td>0.0</td>\n",
       "      <td>0.0</td>\n",
       "      <td>0.0</td>\n",
       "      <td>1.0</td>\n",
       "      <td>0.0</td>\n",
       "      <td>...</td>\n",
       "      <td>0.0</td>\n",
       "      <td>0.0</td>\n",
       "      <td>0.0</td>\n",
       "      <td>0.0</td>\n",
       "      <td>0.0</td>\n",
       "      <td>0.0</td>\n",
       "      <td>0.0</td>\n",
       "      <td>0.0</td>\n",
       "      <td>0.0</td>\n",
       "      <td>0.0</td>\n",
       "    </tr>\n",
       "    <tr>\n",
       "      <th>4</th>\n",
       "      <td>2</td>\n",
       "      <td>743.0</td>\n",
       "      <td>Mahalunge</td>\n",
       "      <td>Yes</td>\n",
       "      <td>7.4</td>\n",
       "      <td>0.0</td>\n",
       "      <td>0.0</td>\n",
       "      <td>0.0</td>\n",
       "      <td>0.0</td>\n",
       "      <td>0.0</td>\n",
       "      <td>...</td>\n",
       "      <td>0.0</td>\n",
       "      <td>0.0</td>\n",
       "      <td>0.0</td>\n",
       "      <td>0.0</td>\n",
       "      <td>0.0</td>\n",
       "      <td>0.0</td>\n",
       "      <td>0.0</td>\n",
       "      <td>0.0</td>\n",
       "      <td>0.0</td>\n",
       "      <td>0.0</td>\n",
       "    </tr>\n",
       "  </tbody>\n",
       "</table>\n",
       "<p>5 rows × 38 columns</p>\n",
       "</div>"
      ],
      "text/plain": [
       "  Propert Type  Property Area in Sq. Ft.   Sub-Area Swimming Pool  \\\n",
       "0            1                     492.0    Bavdhan           Yes   \n",
       "1            2                     774.0    Bavdhan           Yes   \n",
       "2            3                     889.0    Bavdhan           Yes   \n",
       "3            3                    1018.0    Bavdhan           Yes   \n",
       "4            2                     743.0  Mahalunge           Yes   \n",
       "\n",
       "   Price in Millions  area_akurdi  area_balewadi  area_baner  area_bavdhan  \\\n",
       "0                3.9          0.0            0.0         0.0           1.0   \n",
       "1                6.5          0.0            0.0         0.0           1.0   \n",
       "2                7.4          0.0            0.0         0.0           1.0   \n",
       "3                8.9          0.0            0.0         0.0           1.0   \n",
       "4                7.4          0.0            0.0         0.0           0.0   \n",
       "\n",
       "   area_bavdhan budruk  ...  area_mundhwa  area_nibm  area_pisoli  area_ravet  \\\n",
       "0                  0.0  ...           0.0        0.0          0.0         0.0   \n",
       "1                  0.0  ...           0.0        0.0          0.0         0.0   \n",
       "2                  0.0  ...           0.0        0.0          0.0         0.0   \n",
       "3                  0.0  ...           0.0        0.0          0.0         0.0   \n",
       "4                  0.0  ...           0.0        0.0          0.0         0.0   \n",
       "\n",
       "   area_susgaon  area_talegoan  area_tathawade  area_undri  area_vimannagar  \\\n",
       "0           0.0            0.0             0.0         0.0              0.0   \n",
       "1           0.0            0.0             0.0         0.0              0.0   \n",
       "2           0.0            0.0             0.0         0.0              0.0   \n",
       "3           0.0            0.0             0.0         0.0              0.0   \n",
       "4           0.0            0.0             0.0         0.0              0.0   \n",
       "\n",
       "   area_wadgaon sheri  \n",
       "0                 0.0  \n",
       "1                 0.0  \n",
       "2                 0.0  \n",
       "3                 0.0  \n",
       "4                 0.0  \n",
       "\n",
       "[5 rows x 38 columns]"
      ]
     },
     "execution_count": 17,
     "metadata": {},
     "output_type": "execute_result"
    }
   ],
   "source": [
    "# concatenate df_selection with encoded variables\n",
    "df_selection = pd.concat([df_selection,area_encoded], axis = 1)\n",
    "\n",
    "# check the updated dataset\n",
    "df_selection.head()"
   ]
  },
  {
   "cell_type": "markdown",
   "metadata": {},
   "source": [
    "Happy with the result, we can now remove the `'Sub-Area'` variable, using again the *`drop`* function."
   ]
  },
  {
   "cell_type": "code",
   "execution_count": 18,
   "metadata": {},
   "outputs": [],
   "source": [
    "# drop the 'Sub-Area' variable\n",
    "df_selection = df_selection.drop('Sub-Area', axis = 1)"
   ]
  },
  {
   "cell_type": "markdown",
   "metadata": {},
   "source": [
    "Let's finally have a look at the last variable, `'Swimming Pool'`. In particular, we want to analyse the its values."
   ]
  },
  {
   "cell_type": "code",
   "execution_count": 19,
   "metadata": {},
   "outputs": [
    {
     "data": {
      "text/plain": [
       "array(['Yes', 'No', 'no', 'yes', 'no '], dtype=object)"
      ]
     },
     "execution_count": 19,
     "metadata": {},
     "output_type": "execute_result"
    }
   ],
   "source": [
    "df_selection['Swimming Pool'].unique()"
   ]
  },
  {
   "cell_type": "markdown",
   "metadata": {},
   "source": [
    "We can see that the array contains different values (some in lowercase, some in uppercase, and others with unnecessary space). Therefore, we need to (1) convert the values in lowercase using *`lower()`*, (2) remove any space using *`strip()`*, and (3) convert from string to binary using *`map()`*."
   ]
  },
  {
   "cell_type": "code",
   "execution_count": 20,
   "metadata": {},
   "outputs": [],
   "source": [
    "# convert the 'Swimming Pool' variable from string to binary\n",
    "df_selection['Swimming Pool'] = df_selection['Swimming Pool'].str.lower().str.strip().map(\n",
    "    {'yes': True , 'no': False}\n",
    ")"
   ]
  },
  {
   "cell_type": "markdown",
   "metadata": {},
   "source": [
    "Let's check if we have converted correctly the variable `'Swimming Pool'` to binary, so that its values are True or False."
   ]
  },
  {
   "cell_type": "code",
   "execution_count": 21,
   "metadata": {},
   "outputs": [
    {
     "data": {
      "text/plain": [
       "array([ True, False])"
      ]
     },
     "execution_count": 21,
     "metadata": {},
     "output_type": "execute_result"
    }
   ],
   "source": [
    "# check if the conversion happened correctly\n",
    "df_selection['Swimming Pool'].unique()"
   ]
  },
  {
   "cell_type": "markdown",
   "metadata": {},
   "source": [
    "It looks like we achieved what we wanted! We can then move to the next step."
   ]
  },
  {
   "cell_type": "markdown",
   "metadata": {},
   "source": [
    "#### 4.2.4 Variables Scaling"
   ]
  },
  {
   "cell_type": "markdown",
   "metadata": {},
   "source": [
    "The final step consists of scaling (i.e., normalising between 0 and 1) the `'Property Area in Sq.Ft.'` as its values are too large compared to the other variables' values; this would overpower the other inputs' activations resulting in an unfair representation in the network. To do so, we are going to use the *`MinMaxScaler()`*."
   ]
  },
  {
   "cell_type": "code",
   "execution_count": 22,
   "metadata": {},
   "outputs": [],
   "source": [
    "# scale the 'Property Area in Sq.Ft.' variable \n",
    "scaler = MinMaxScaler()\n",
    "df_selection['Property Area in Sq. Ft.'] = scaler.fit_transform(df_selection[['Property Area in Sq. Ft.']])"
   ]
  },
  {
   "cell_type": "markdown",
   "metadata": {},
   "source": [
    "Let's check the resulting scaled variable:"
   ]
  },
  {
   "cell_type": "code",
   "execution_count": 23,
   "metadata": {},
   "outputs": [
    {
     "data": {
      "text/plain": [
       "0    0.162382\n",
       "1    0.283205\n",
       "2    0.332476\n",
       "3    0.387746\n",
       "4    0.269923\n",
       "Name: Property Area in Sq. Ft., dtype: float64"
      ]
     },
     "execution_count": 23,
     "metadata": {},
     "output_type": "execute_result"
    }
   ],
   "source": [
    "df_selection['Property Area in Sq. Ft.'].head()"
   ]
  },
  {
   "cell_type": "markdown",
   "metadata": {},
   "source": [
    "### 4.3 The Clean Dataset"
   ]
  },
  {
   "cell_type": "markdown",
   "metadata": {},
   "source": [
    "At this point, we should have cleaned our dataset, which should contain only float variables.\n",
    "Let's ensure that this is true by converting all values to float."
   ]
  },
  {
   "cell_type": "code",
   "execution_count": 24,
   "metadata": {},
   "outputs": [],
   "source": [
    "# ensuring our variables are float\n",
    "df_selection['Propert Type'] = df_selection['Propert Type'].astype(float, errors = 'raise')\n",
    "df_selection['Property Area in Sq. Ft.'] = df_selection['Property Area in Sq. Ft.'].astype(float, errors = 'raise')\n",
    "df_selection['Swimming Pool'] = df_selection['Swimming Pool'].astype(float, errors = 'raise')  \n",
    "df_selection['Price in Millions'] = df_selection['Price in Millions'].astype(float, errors = 'raise')"
   ]
  },
  {
   "cell_type": "code",
   "execution_count": 25,
   "metadata": {
    "collapsed": false,
    "pycharm": {
     "name": "#%%\n"
    }
   },
   "outputs": [
    {
     "data": {
      "text/html": [
       "<div>\n",
       "<style scoped>\n",
       "    .dataframe tbody tr th:only-of-type {\n",
       "        vertical-align: middle;\n",
       "    }\n",
       "\n",
       "    .dataframe tbody tr th {\n",
       "        vertical-align: top;\n",
       "    }\n",
       "\n",
       "    .dataframe thead th {\n",
       "        text-align: right;\n",
       "    }\n",
       "</style>\n",
       "<table border=\"1\" class=\"dataframe\">\n",
       "  <thead>\n",
       "    <tr style=\"text-align: right;\">\n",
       "      <th></th>\n",
       "      <th>Propert Type</th>\n",
       "      <th>Property Area in Sq. Ft.</th>\n",
       "      <th>Swimming Pool</th>\n",
       "      <th>Price in Millions</th>\n",
       "      <th>area_akurdi</th>\n",
       "      <th>area_balewadi</th>\n",
       "      <th>area_baner</th>\n",
       "      <th>area_bavdhan</th>\n",
       "      <th>area_bavdhan budruk</th>\n",
       "      <th>area_bt kawade rd</th>\n",
       "      <th>...</th>\n",
       "      <th>area_mundhwa</th>\n",
       "      <th>area_nibm</th>\n",
       "      <th>area_pisoli</th>\n",
       "      <th>area_ravet</th>\n",
       "      <th>area_susgaon</th>\n",
       "      <th>area_talegoan</th>\n",
       "      <th>area_tathawade</th>\n",
       "      <th>area_undri</th>\n",
       "      <th>area_vimannagar</th>\n",
       "      <th>area_wadgaon sheri</th>\n",
       "    </tr>\n",
       "  </thead>\n",
       "  <tbody>\n",
       "    <tr>\n",
       "      <th>0</th>\n",
       "      <td>1.0</td>\n",
       "      <td>0.162382</td>\n",
       "      <td>1.0</td>\n",
       "      <td>3.9</td>\n",
       "      <td>0.0</td>\n",
       "      <td>0.0</td>\n",
       "      <td>0.0</td>\n",
       "      <td>1.0</td>\n",
       "      <td>0.0</td>\n",
       "      <td>0.0</td>\n",
       "      <td>...</td>\n",
       "      <td>0.0</td>\n",
       "      <td>0.0</td>\n",
       "      <td>0.0</td>\n",
       "      <td>0.0</td>\n",
       "      <td>0.0</td>\n",
       "      <td>0.0</td>\n",
       "      <td>0.0</td>\n",
       "      <td>0.0</td>\n",
       "      <td>0.0</td>\n",
       "      <td>0.0</td>\n",
       "    </tr>\n",
       "    <tr>\n",
       "      <th>1</th>\n",
       "      <td>2.0</td>\n",
       "      <td>0.283205</td>\n",
       "      <td>1.0</td>\n",
       "      <td>6.5</td>\n",
       "      <td>0.0</td>\n",
       "      <td>0.0</td>\n",
       "      <td>0.0</td>\n",
       "      <td>1.0</td>\n",
       "      <td>0.0</td>\n",
       "      <td>0.0</td>\n",
       "      <td>...</td>\n",
       "      <td>0.0</td>\n",
       "      <td>0.0</td>\n",
       "      <td>0.0</td>\n",
       "      <td>0.0</td>\n",
       "      <td>0.0</td>\n",
       "      <td>0.0</td>\n",
       "      <td>0.0</td>\n",
       "      <td>0.0</td>\n",
       "      <td>0.0</td>\n",
       "      <td>0.0</td>\n",
       "    </tr>\n",
       "    <tr>\n",
       "      <th>2</th>\n",
       "      <td>3.0</td>\n",
       "      <td>0.332476</td>\n",
       "      <td>1.0</td>\n",
       "      <td>7.4</td>\n",
       "      <td>0.0</td>\n",
       "      <td>0.0</td>\n",
       "      <td>0.0</td>\n",
       "      <td>1.0</td>\n",
       "      <td>0.0</td>\n",
       "      <td>0.0</td>\n",
       "      <td>...</td>\n",
       "      <td>0.0</td>\n",
       "      <td>0.0</td>\n",
       "      <td>0.0</td>\n",
       "      <td>0.0</td>\n",
       "      <td>0.0</td>\n",
       "      <td>0.0</td>\n",
       "      <td>0.0</td>\n",
       "      <td>0.0</td>\n",
       "      <td>0.0</td>\n",
       "      <td>0.0</td>\n",
       "    </tr>\n",
       "    <tr>\n",
       "      <th>3</th>\n",
       "      <td>3.0</td>\n",
       "      <td>0.387746</td>\n",
       "      <td>1.0</td>\n",
       "      <td>8.9</td>\n",
       "      <td>0.0</td>\n",
       "      <td>0.0</td>\n",
       "      <td>0.0</td>\n",
       "      <td>1.0</td>\n",
       "      <td>0.0</td>\n",
       "      <td>0.0</td>\n",
       "      <td>...</td>\n",
       "      <td>0.0</td>\n",
       "      <td>0.0</td>\n",
       "      <td>0.0</td>\n",
       "      <td>0.0</td>\n",
       "      <td>0.0</td>\n",
       "      <td>0.0</td>\n",
       "      <td>0.0</td>\n",
       "      <td>0.0</td>\n",
       "      <td>0.0</td>\n",
       "      <td>0.0</td>\n",
       "    </tr>\n",
       "    <tr>\n",
       "      <th>4</th>\n",
       "      <td>2.0</td>\n",
       "      <td>0.269923</td>\n",
       "      <td>1.0</td>\n",
       "      <td>7.4</td>\n",
       "      <td>0.0</td>\n",
       "      <td>0.0</td>\n",
       "      <td>0.0</td>\n",
       "      <td>0.0</td>\n",
       "      <td>0.0</td>\n",
       "      <td>0.0</td>\n",
       "      <td>...</td>\n",
       "      <td>0.0</td>\n",
       "      <td>0.0</td>\n",
       "      <td>0.0</td>\n",
       "      <td>0.0</td>\n",
       "      <td>0.0</td>\n",
       "      <td>0.0</td>\n",
       "      <td>0.0</td>\n",
       "      <td>0.0</td>\n",
       "      <td>0.0</td>\n",
       "      <td>0.0</td>\n",
       "    </tr>\n",
       "  </tbody>\n",
       "</table>\n",
       "<p>5 rows × 37 columns</p>\n",
       "</div>"
      ],
      "text/plain": [
       "   Propert Type  Property Area in Sq. Ft.  Swimming Pool  Price in Millions  \\\n",
       "0           1.0                  0.162382            1.0                3.9   \n",
       "1           2.0                  0.283205            1.0                6.5   \n",
       "2           3.0                  0.332476            1.0                7.4   \n",
       "3           3.0                  0.387746            1.0                8.9   \n",
       "4           2.0                  0.269923            1.0                7.4   \n",
       "\n",
       "   area_akurdi  area_balewadi  area_baner  area_bavdhan  area_bavdhan budruk  \\\n",
       "0          0.0            0.0         0.0           1.0                  0.0   \n",
       "1          0.0            0.0         0.0           1.0                  0.0   \n",
       "2          0.0            0.0         0.0           1.0                  0.0   \n",
       "3          0.0            0.0         0.0           1.0                  0.0   \n",
       "4          0.0            0.0         0.0           0.0                  0.0   \n",
       "\n",
       "   area_bt kawade rd  ...  area_mundhwa  area_nibm  area_pisoli  area_ravet  \\\n",
       "0                0.0  ...           0.0        0.0          0.0         0.0   \n",
       "1                0.0  ...           0.0        0.0          0.0         0.0   \n",
       "2                0.0  ...           0.0        0.0          0.0         0.0   \n",
       "3                0.0  ...           0.0        0.0          0.0         0.0   \n",
       "4                0.0  ...           0.0        0.0          0.0         0.0   \n",
       "\n",
       "   area_susgaon  area_talegoan  area_tathawade  area_undri  area_vimannagar  \\\n",
       "0           0.0            0.0             0.0         0.0              0.0   \n",
       "1           0.0            0.0             0.0         0.0              0.0   \n",
       "2           0.0            0.0             0.0         0.0              0.0   \n",
       "3           0.0            0.0             0.0         0.0              0.0   \n",
       "4           0.0            0.0             0.0         0.0              0.0   \n",
       "\n",
       "   area_wadgaon sheri  \n",
       "0                 0.0  \n",
       "1                 0.0  \n",
       "2                 0.0  \n",
       "3                 0.0  \n",
       "4                 0.0  \n",
       "\n",
       "[5 rows x 37 columns]"
      ]
     },
     "execution_count": 25,
     "metadata": {},
     "output_type": "execute_result"
    }
   ],
   "source": [
    "df_selection.head()"
   ]
  },
  {
   "cell_type": "markdown",
   "metadata": {},
   "source": [
    "Happy with the result, we can split our dataset in 2: one including all variables except for the `'Price in Millions'`, and one including only `'Price in Millions'`. This step will allow us to compare the variable predicted with the model to the actual variable, which is `'Price in Millions'`."
   ]
  },
  {
   "cell_type": "code",
   "execution_count": 26,
   "metadata": {},
   "outputs": [
    {
     "name": "stdout",
     "output_type": "stream",
     "text": [
      "(198, 36)\n",
      "(198,)\n"
     ]
    }
   ],
   "source": [
    "# dataset including all variables, but 'Price in Millions'\n",
    "X = df_selection.drop(['Price in Millions'], axis = 1)\n",
    "print(X.shape)\n",
    "\n",
    "# dataset including only 'Price in Millions'\n",
    "Y = df_selection['Price in Millions']\n",
    "print(Y.shape)"
   ]
  },
  {
   "cell_type": "markdown",
   "metadata": {},
   "source": [
    "Later on, we will need to perform array operations; therefore, if we have arrays with different shapes, we need to reshape them to make them comparable and be able to perform element-wise operations. This is the case of the variable `'Y'`, which has currently the shape (198,), but should be (198,1). Let's reshape it using *`reshape`*."
   ]
  },
  {
   "cell_type": "code",
   "execution_count": 27,
   "metadata": {},
   "outputs": [
    {
     "name": "stdout",
     "output_type": "stream",
     "text": [
      "(198, 1)\n"
     ]
    }
   ],
   "source": [
    "# reshape the array\n",
    "Y = Y.values.reshape((Y.shape[0], 1)) \n",
    "print(Y.shape)"
   ]
  },
  {
   "cell_type": "markdown",
   "metadata": {},
   "source": [
    "We can now create *test data* and *training data*. Test data excludes the first 150 rows, while test data includes the last 48 rows. Also in this case, we need to transpose the data to be able to perfrom array operations."
   ]
  },
  {
   "cell_type": "code",
   "execution_count": 28,
   "metadata": {},
   "outputs": [
    {
     "name": "stdout",
     "output_type": "stream",
     "text": [
      "X_test: (36, 48)\n",
      "Y_test: (1, 48)\n",
      "X_train: (36, 150)\n",
      "Y_train: (1, 150)\n"
     ]
    }
   ],
   "source": [
    "# test data and shape\n",
    "X_test=X[150:].T  \n",
    "Y_test=Y[150:].T  \n",
    "print('X_test:', X_test.shape)\n",
    "print('Y_test:', Y_test.shape)\n",
    "\n",
    "#training data and shape\n",
    "X_train = X[:150].T\n",
    "Y_train = Y[:150].T\n",
    "print('X_train:', X_train.shape)\n",
    "print('Y_train:', Y_train.shape)  "
   ]
  },
  {
   "cell_type": "markdown",
   "metadata": {},
   "source": [
    "We can now move to the next section, where we will start looking at the model training!"
   ]
  },
  {
   "cell_type": "markdown",
   "metadata": {},
   "source": [
    "### 4.4 Single-Layer Neural Network Computation"
   ]
  },
  {
   "cell_type": "markdown",
   "metadata": {},
   "source": [
    "We are now going through the *Single-Layer* computation, the simplest form of neural network. Defined like that as there is only one layer of input nodes that send weighted inputs to a subsequent layer of receiving nodes.\n",
    "\n",
    "We will start with the forward-propagation and finish with backward propagation. Let's begin!"
   ]
  },
  {
   "cell_type": "markdown",
   "metadata": {},
   "source": [
    "\n",
    "#### 4.4.1 Forward-Propagation"
   ]
  },
  {
   "cell_type": "markdown",
   "metadata": {},
   "source": [
    "The process is based on the below two steps:\n",
    "1. *Inputs initialization*. Weighted sum of inputs from the previous layer plus the bias.\n",
    "\n",
    "2. *Activation*. The calculated weighted sum of inputs is passed to the activation function to add non-linearity to the network. Among the most popular activation functions, we are considering the *Rectified Linear Unit (ReLU) activation function*.\n",
    "\n",
    "With the *inputs initialization*, we want to initialize the weights (`W`), the bias (`b`), and the resultant output (`Z`) from these.\n",
    " \n",
    "The weight initialization usually depends on the activation function considered in the analysis. The standard approach when using a ReLU activation function is the *he* initialization method.\n",
    "\n",
    "This method generates weights as a random number with a Gaussian probability distribution (G) with a mean of 0.0 and a standard deviation of sqrt(2/n), where n is the number of inputs to the node.\n",
    "\n",
    "weight ~ G (0.0, sqrt(2/n))\n",
    "\n",
    "In our example, n equals 36.\n"
   ]
  },
  {
   "cell_type": "code",
   "execution_count": 29,
   "metadata": {},
   "outputs": [
    {
     "name": "stdout",
     "output_type": "stream",
     "text": [
      "36\n"
     ]
    },
    {
     "data": {
      "text/plain": [
       "array([[ 0.06707437, -1.22491354, -0.30150403, -0.09872592, -0.68532002,\n",
       "         2.31039422, -0.16307704,  0.37281006,  0.55721033, -0.68988126,\n",
       "         1.95126164,  1.73294641,  0.38104325, -1.03544077, -0.4293814 ,\n",
       "        -0.81678306, -0.24404516,  1.64366706, -3.66923672,  1.24416787,\n",
       "        -2.39714867, -0.04007065,  3.19182961,  1.57179202,  0.78027005,\n",
       "         0.58655852,  0.88742936, -1.47211359,  0.21018724, -0.83317381,\n",
       "         0.87475863, -2.10451711,  1.73585086, -1.35336814, -0.38714675,\n",
       "         0.29184384]])"
      ]
     },
     "execution_count": 29,
     "metadata": {},
     "output_type": "execute_result"
    }
   ],
   "source": [
    "# the 'he' initialization\n",
    "n_in = X_train\n",
    "n_out = Y_train\n",
    "n = n_in.shape[0] # this equals to 36\n",
    "print(n)\n",
    "# calculate the standard deviation\n",
    "std = np.sqrt(2.0/n_out.shape[0])\n",
    "# calculate the weights\n",
    "W = np.random.randn(n_out.shape[0], n_in.shape[0]) * std\n",
    "W"
   ]
  },
  {
   "cell_type": "markdown",
   "metadata": {},
   "source": [
    "Once we initialized the weights, we should do the same with the bias (`b`). In this case, we will set it to zero, for simplicity."
   ]
  },
  {
   "cell_type": "code",
   "execution_count": 30,
   "metadata": {},
   "outputs": [
    {
     "data": {
      "text/plain": [
       "(1, 150)"
      ]
     },
     "execution_count": 30,
     "metadata": {},
     "output_type": "execute_result"
    }
   ],
   "source": [
    "n_out.shape"
   ]
  },
  {
   "cell_type": "code",
   "execution_count": 31,
   "metadata": {},
   "outputs": [],
   "source": [
    "# initialize bias 'b' as zero\n",
    "b = np.zeros((n_out.shape[0], 1))"
   ]
  },
  {
   "cell_type": "markdown",
   "metadata": {},
   "source": [
    "Now, we are ready to perform a *forward-propagation*, which refers to the calculation and storage of intermediate variable (`Z`) for a neural network from the input layer to the output layer.\n",
    "\n",
    "$$Z = X^{T}W + b$$"
   ]
  },
  {
   "cell_type": "code",
   "execution_count": 32,
   "metadata": {},
   "outputs": [
    {
     "data": {
      "text/plain": [
       "(1, 150)"
      ]
     },
     "execution_count": 32,
     "metadata": {},
     "output_type": "execute_result"
    }
   ],
   "source": [
    "# initialize the intermediate variable\n",
    "Z = np.dot(W, n_in) + b\n",
    "Z.shape"
   ]
  },
  {
   "cell_type": "markdown",
   "metadata": {},
   "source": [
    "Next, we pass to the *activation*. The scope is to process the output $Z$ through an *activation function*. As mentioned, we have chosen to use the *ReLU* function for our activation. This is a linear function that will output the input directly if it is positive, otherwise, it will output zero.\n",
    "\n",
    "The output $\\hat{Y}$ represents our *prediction*."
   ]
  },
  {
   "cell_type": "code",
   "execution_count": 33,
   "metadata": {},
   "outputs": [],
   "source": [
    "# ReLU function\n",
    "Y_hat = np.maximum(0,Z)"
   ]
  },
  {
   "cell_type": "code",
   "execution_count": 34,
   "metadata": {},
   "outputs": [
    {
     "data": {
      "text/plain": [
       "150"
      ]
     },
     "execution_count": 34,
     "metadata": {},
     "output_type": "execute_result"
    }
   ],
   "source": [
    "Y_hat.shape[1]"
   ]
  },
  {
   "cell_type": "markdown",
   "metadata": {},
   "source": [
    "We are now going to compare the prediction $\\hat{Y}$ to a *true* value $Y$ to calculate the *Mean Squared Error (MSE)* between predicted and true values. This can be calculated using the Loss Function $L(\\hat{Y},Y)$.\n",
    "$$MSE = L(\\hat{Y},Y) = \\frac{1}{n}\\ (\\hat{Y} - Y)^{2}$$"
   ]
  },
  {
   "cell_type": "code",
   "execution_count": 35,
   "metadata": {},
   "outputs": [],
   "source": [
    "# define the true value 'Y' and the sample size 'n'\n",
    "Y = Y_train\n",
    "n = Y_hat.shape[1]\n",
    "\n",
    "# calculate the mean squared error or loss function\n",
    "E = (1 / n) * np.sum(np.square(Y_hat - Y))  "
   ]
  },
  {
   "cell_type": "code",
   "execution_count": 36,
   "metadata": {},
   "outputs": [
    {
     "data": {
      "text/plain": [
       "(211.16623363814347, ())"
      ]
     },
     "execution_count": 36,
     "metadata": {},
     "output_type": "execute_result"
    }
   ],
   "source": [
    "# this is the error before training our neural network\n",
    "E, E.shape"
   ]
  },
  {
   "cell_type": "markdown",
   "metadata": {},
   "source": [
    "#### 4.4.2 Backward-Propagation"
   ]
  },
  {
   "cell_type": "markdown",
   "metadata": {},
   "source": [
    "We are not stepping into the backward-propagation. This is a way of propagating the total loss back into the neural network to see how much of the loss every node is responsible for, and then updating the weights to minimize the loss by giving the nodes with higher error, lower weights and vice-versa.\n",
    "\n",
    "First, we need to derive the slope of the function to understand the direction we need to go to. If the slope is positive, then we would need to move to the right; otherwise, we would need to move to the left. \n",
    "\n",
    "To do that, we can calculate the derivative of the mean squared error (MSE) with respect to the output activation $\\hat{Y}$.\n",
    "\n",
    "\n",
    "$$\\dfrac{\\partial E }{\\partial \\hat{Y}}=\\dfrac{2}{n}\\left( \\hat{Y}- Y\\right)$$"
   ]
  },
  {
   "cell_type": "code",
   "execution_count": 37,
   "metadata": {},
   "outputs": [
    {
     "data": {
      "text/plain": [
       "(1, 150)"
      ]
     },
     "execution_count": 37,
     "metadata": {},
     "output_type": "execute_result"
    }
   ],
   "source": [
    "# derivative of the loss function\n",
    "dE = (2 / n) * (Y_hat - Y)\n",
    "dE.shape"
   ]
  },
  {
   "cell_type": "markdown",
   "metadata": {},
   "source": [
    "After, we need calculate the derivative of the ReLU function to update the weights of a node as part of the backpropagation of error.\n",
    "\n",
    "The derivative of the ReLU function is the slope. The slope for negative values is 0.0 and the slope for positive values is 1.0."
   ]
  },
  {
   "cell_type": "code",
   "execution_count": 38,
   "metadata": {},
   "outputs": [
    {
     "data": {
      "text/plain": [
       "(1, 150)"
      ]
     },
     "execution_count": 38,
     "metadata": {},
     "output_type": "execute_result"
    }
   ],
   "source": [
    "# derivative of the ReLU function\n",
    "dY_hat = (Z > 0)\n",
    "dY_hat.shape"
   ]
  },
  {
   "cell_type": "markdown",
   "metadata": {},
   "source": [
    "How to optimize the weights? We can use a backward propagation with gradient descent.\n",
    "\n",
    "The idea is to calculate gradients of the loss function with respect to the model weights and propagate them back layer by layer. This way, the model knows the weights, responsible for creating a larger error, and tunes them accordingly.\n",
    "\n",
    "What we are aiming is minimize the cost. Gradient indicates the direction of increase. As we want to find the minimum point, we need to go in the opposite direction of the gradient. We update parameters in the negative gradient direction to minimize the loss."
   ]
  },
  {
   "cell_type": "code",
   "execution_count": 39,
   "metadata": {},
   "outputs": [
    {
     "data": {
      "text/plain": [
       "(36, 150)"
      ]
     },
     "execution_count": 39,
     "metadata": {},
     "output_type": "execute_result"
    }
   ],
   "source": [
    "# input data \n",
    "dZ = n_in\n",
    "dZ.shape"
   ]
  },
  {
   "cell_type": "code",
   "execution_count": 40,
   "metadata": {},
   "outputs": [
    {
     "data": {
      "text/plain": [
       "(array([[-8.39306484, -1.10315569, -2.2019786 ,  0.        ,  0.        ,\n",
       "         -0.15700353,  0.        ,  0.        , -0.4178503 ,  0.        ,\n",
       "         -0.634179  , -0.34034982,  0.        ,  0.        ,  0.        ,\n",
       "          0.        ,  0.        , -0.03085662,  0.        , -0.27203262,\n",
       "          0.        ,  0.        , -0.15579277, -0.75895386, -0.19602349,\n",
       "          0.        , -0.27033509,  0.        ,  0.        ,  0.        ,\n",
       "         -0.17313478,  0.        , -0.20393411,  0.        ,  0.        ,\n",
       "          0.        ]]),\n",
       " (1, 36))"
      ]
     },
     "execution_count": 40,
     "metadata": {},
     "output_type": "execute_result"
    }
   ],
   "source": [
    "# calculate gradients of the loss function with respect to the weights\n",
    "dW = np.dot((dE * dY_hat),dZ.T)\n",
    "dW, dW.shape"
   ]
  },
  {
   "cell_type": "code",
   "execution_count": 41,
   "metadata": {},
   "outputs": [
    {
     "data": {
      "text/plain": [
       "(array([[ 0.06707437, -1.22491354, -0.30150403, -0.09872592, -0.68532002,\n",
       "          2.31039422, -0.16307704,  0.37281006,  0.55721033, -0.68988126,\n",
       "          1.95126164,  1.73294641,  0.38104325, -1.03544077, -0.4293814 ,\n",
       "         -0.81678306, -0.24404516,  1.64366706, -3.66923672,  1.24416787,\n",
       "         -2.39714867, -0.04007065,  3.19182961,  1.57179202,  0.78027005,\n",
       "          0.58655852,  0.88742936, -1.47211359,  0.21018724, -0.83317381,\n",
       "          0.87475863, -2.10451711,  1.73585086, -1.35336814, -0.38714675,\n",
       "          0.29184384]]),\n",
       " (1, 36))"
      ]
     },
     "execution_count": 41,
     "metadata": {},
     "output_type": "execute_result"
    }
   ],
   "source": [
    "W, W.shape"
   ]
  },
  {
   "cell_type": "markdown",
   "metadata": {},
   "source": [
    "How can we increase/decrease the size of weight updates? We can use the *learning rate* $\\alpha$.\n",
    "\n",
    "Unfortunately, we cannot calculate the optimal learning rate, but we can derive a good-enough learning rate via trial and error to find, on average, a good-enough set of weights. Typically, the range of values to consider for the learning rate is less than $1$ and greater than $10^{-6}$. \n",
    "\n",
    "After running the model several times, we chose $\\alpha = 0.1$, and used it for the below weight optimization equation.\n",
    "\n",
    "$$W = W - \\alpha \\dfrac{\\partial L }{\\partial w}$$"
   ]
  },
  {
   "cell_type": "code",
   "execution_count": 42,
   "metadata": {},
   "outputs": [
    {
     "data": {
      "text/plain": [
       "(array([[ 0.90638085, -1.11459797, -0.08130617, -0.09872592, -0.68532002,\n",
       "          2.32609458, -0.16307704,  0.37281006,  0.59899536, -0.68988126,\n",
       "          2.01467954,  1.76698139,  0.38104325, -1.03544077, -0.4293814 ,\n",
       "         -0.81678306, -0.24404516,  1.64675272, -3.66923672,  1.27137114,\n",
       "         -2.39714867, -0.04007065,  3.20740889,  1.6476874 ,  0.7998724 ,\n",
       "          0.58655852,  0.91446287, -1.47211359,  0.21018724, -0.83317381,\n",
       "          0.89207211, -2.10451711,  1.75624427, -1.35336814, -0.38714675,\n",
       "          0.29184384]]),\n",
       " (1, 36))"
      ]
     },
     "execution_count": 42,
     "metadata": {},
     "output_type": "execute_result"
    }
   ],
   "source": [
    "# define the 'learning rate'\n",
    "alpha = 0.1\n",
    "\n",
    "# update the weights using the learning rate\n",
    "W = W - (alpha * dW)\n",
    "\n",
    "# see updated weights\n",
    "W, W.shape"
   ]
  },
  {
   "cell_type": "markdown",
   "metadata": {},
   "source": [
    "As we did for the weights, we need now to calculate the derivative of the loss function, but with respect to the bias ($b$). After, we need to update the bias using the learning rate ($\\alpha$)."
   ]
  },
  {
   "cell_type": "code",
   "execution_count": 43,
   "metadata": {},
   "outputs": [],
   "source": [
    "# derivative of loss function with respect to bias\n",
    "db = np.sum((dE * dY_hat), axis = 1, keepdims = True)\n",
    "\n",
    "# update bias using the learning rate\n",
    "b = b - (db * alpha) "
   ]
  },
  {
   "cell_type": "markdown",
   "metadata": {},
   "source": [
    "The above calculations represent an *epoch*, i.e., an entire loop through the forward and back-propagation process using every sample in the training set; however, only one epoch will lead to *underfitting error*. That is why, to get to an optimal model, we need to increase the number of epochs. Note that using too many epochs might result in *overfitting error* instead. There is no correct number of epochs, it depends on the size and type of dataset and model. In this example, we are going to use 100 epochs, as it seems to give us the optimal curve.\n",
    "\n",
    "Let's now iterate the process to *optimize* our weights and predict a value $\\hat{Y}$ closer to the true value $Y$. To do so, we are going to use the *`for`* loop."
   ]
  },
  {
   "cell_type": "code",
   "execution_count": 44,
   "metadata": {},
   "outputs": [],
   "source": [
    "# define a variable to store the error calculated in each iteration\n",
    "error = []\n",
    "\n",
    "# set number of epochs\n",
    "epochs = 100 \n",
    "\n",
    "# iteration\n",
    "for i in range(epochs):\n",
    "\n",
    "    # initialize the intermediate variable\n",
    "    Z = np.dot(W, n_in) + b\n",
    "    \n",
    "    # forward-propagation\n",
    "    # ReLU activation\n",
    "    Y_hat = np.maximum(0,Z) \n",
    "    \n",
    "    # define the sample size 'n'\n",
    "    # note that the true value 'Y' is already defined in the above calculation - no need to define it again.\n",
    "    n = Y_hat.shape[1] \n",
    "     \n",
    "    # calculate the mean squared error or loss function\n",
    "    E = (1 / n) * np.sum(np.square(Y_hat - Y))\n",
    "\n",
    "    # backward-propagation\n",
    "    # derivative of the loss function\n",
    "    dE = (2 / n) * (Y_hat - Y) \n",
    "    \n",
    "    # derivative of Relu Activation function\n",
    "    dY_hat = (Z > 0)\n",
    "\n",
    "    # input data \n",
    "    dZ = n_in  \n",
    "\n",
    "    # derivative of loss function with respect to weights\n",
    "    dW = np.dot((dE * dY_hat),dZ.T)\n",
    "    \n",
    "    # derivative of loss function with respect to bias\n",
    "    db = np.sum((dE * dY_hat), axis = 1, keepdims = True)\n",
    "    \n",
    "    # update weights\n",
    "    W = W - (dW * alpha)\n",
    "    \n",
    "    # update bias\n",
    "    b = b - (db * alpha) \n",
    "\n",
    "    # error\n",
    "    error.append(E)"
   ]
  },
  {
   "cell_type": "markdown",
   "metadata": {},
   "source": [
    "We can now plot the error using `matplotlib`."
   ]
  },
  {
   "cell_type": "code",
   "execution_count": 45,
   "metadata": {},
   "outputs": [
    {
     "data": {
      "image/png": "[encoded data removed]",
      "text/plain": [
       "<Figure size 432x288 with 1 Axes>"
      ]
     },
     "metadata": {
      "needs_background": "light"
     },
     "output_type": "display_data"
    }
   ],
   "source": [
    "# plot the error\n",
    "plt.ylabel('Error')\n",
    "plt.xlabel('Epochs')\n",
    "plt.title(\"Learning Rate = \" + str(alpha))\n",
    "plt.plot(np.squeeze(error))\n",
    "plt.show()"
   ]
  },
  {
   "cell_type": "markdown",
   "metadata": {},
   "source": [
    "Now we are going to apply the knowledge from the trained neural network model on the test data and use it to infer the result. "
   ]
  },
  {
   "cell_type": "code",
   "execution_count": 46,
   "metadata": {},
   "outputs": [],
   "source": [
    "# let's now push our test set through the neural network with our learned weights and bias \n",
    "Z_predict = np.dot(W, X_test) + b  \n",
    "\n",
    "# activation function\n",
    "Y_hat_predict=np.maximum(0,Z_predict)\n",
    "\n",
    "# define the size\n",
    "n = X_test.shape[1]  \n",
    "\n",
    "# error prediction\n",
    "E_predict = (1 / n) * np.sum(np.square(Y_hat_predict - Y_test))  "
   ]
  },
  {
   "cell_type": "markdown",
   "metadata": {},
   "source": [
    "Let's look at the error after training. "
   ]
  },
  {
   "cell_type": "code",
   "execution_count": 47,
   "metadata": {},
   "outputs": [
    {
     "data": {
      "text/plain": [
       "20.111590380762742"
      ]
     },
     "execution_count": 47,
     "metadata": {},
     "output_type": "execute_result"
    }
   ],
   "source": [
    "# updated error\n",
    "E_predict"
   ]
  },
  {
   "cell_type": "code",
   "execution_count": 48,
   "metadata": {},
   "outputs": [
    {
     "data": {
      "image/png": "[encoded data removed]",
      "text/plain": [
       "<Figure size 432x288 with 1 Axes>"
      ]
     },
     "metadata": {
      "needs_background": "light"
     },
     "output_type": "display_data"
    }
   ],
   "source": [
    "# plot the predicted values vs. the actual values\n",
    "plt.ylabel('Price in Millions')\n",
    "plt.xlabel('Sample')\n",
    "plt.title(\"Predicted vs. Actual\")\n",
    "plt.plot(np.squeeze(Y_hat_predict),label = \"Predicted\")\n",
    "plt.plot(np.squeeze(Y_test), label = \"Actual\")\n",
    "plt.legend()\n",
    "plt.show()"
   ]
  },
  {
   "cell_type": "markdown",
   "metadata": {},
   "source": [
    "You can see from even this very simple example that a neural net can be setup to train and update its own weights to improve upon its error/cost. \n",
    "\n",
    "However, you can also see that using the current single hidden layer network, our predictions are generally correlated but not too accurate. We will cover this in more depth in future chapters, but the reason for this is that our network is unable to represent complex relationships with only a few weights. However, when we take the same concepts discussed above and apply them across multiple layers with more neurons and adjustable weights/biases more complex relationships can be represented. "
   ]
  }
 ],
 "metadata": {
  "interpreter": {
   "hash": "8f8a66c4fd0301cfb5d2f05c5c82806979c06b306283d6ab863307db3565d32b"
  },
  "kernelspec": {
   "display_name": "Python 3.8.12 64-bit ('docker_faiss': conda)",
   "name": "python3"
  },
  "language_info": {
   "codemirror_mode": {
    "name": "ipython",
    "version": 3
   },
   "file_extension": ".py",
   "mimetype": "text/x-python",
   "name": "python",
   "nbconvert_exporter": "python",
   "pygments_lexer": "ipython3",
   "version": "3.7.9"
  },
  "orig_nbformat": 4
 },
 "nbformat": 4,
 "nbformat_minor": 2
}
